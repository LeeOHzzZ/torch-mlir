{
 "cells": [
  {
   "cell_type": "code",
   "execution_count": null,
   "metadata": {},
   "outputs": [],
   "source": []
  },
  {
   "cell_type": "markdown",
   "metadata": {},
   "source": [
    "### This file contains an easy testing of torch-mlir tools with python notebook\n"
   ]
  },
  {
   "cell_type": "markdown",
   "metadata": {},
   "source": [
    "#### Adding required dependencies"
   ]
  },
  {
   "cell_type": "markdown",
   "metadata": {},
   "source": [
    "torch-mlir imports"
   ]
  },
  {
   "cell_type": "code",
   "execution_count": 8,
   "metadata": {},
   "outputs": [],
   "source": [
    "import torch\n",
    "import torchvision\n",
    "\n",
    "import torch_mlir\n",
    "from torch_mlir.dialects.torch.importer.jit_ir import ClassAnnotator, ModuleBuilder\n",
    "from torch_mlir.dialects.torch.importer.jit_ir.torchscript_annotations import extract_annotations\n",
    "\n",
    "from torch_mlir.passmanager import PassManager\n",
    "from torch_mlir_e2e_test.linalg_on_tensors_backends.refbackend import RefBackendLinalgOnTensorsBackend"
   ]
  },
  {
   "cell_type": "markdown",
   "metadata": {},
   "source": [
    "general dependencies"
   ]
  },
  {
   "cell_type": "markdown",
   "metadata": {},
   "source": []
  },
  {
   "cell_type": "code",
   "execution_count": 9,
   "metadata": {},
   "outputs": [],
   "source": [
    "import requests\n",
    "from PIL import Image\n",
    "\n",
    "import numpy as np"
   ]
  },
  {
   "cell_type": "markdown",
   "metadata": {},
   "source": [
    "Utiilities"
   ]
  },
  {
   "cell_type": "code",
   "execution_count": 10,
   "metadata": {},
   "outputs": [],
   "source": [
    "def compile_and_load_on_refbackend(module):\n",
    "    \"\"\"Compile an MLIR Module to an executable module.\n",
    "\n",
    "    This uses the Torch-MLIR reference backend which accepts\n",
    "    linalg-on-tensors as the way to express tensor computations.\n",
    "    \"\"\"\n",
    "    backend = RefBackendLinalgOnTensorsBackend()\n",
    "    compiled = backend.compile(module)\n",
    "    return backend.load(compiled)"
   ]
  },
  {
   "cell_type": "markdown",
   "metadata": {},
   "source": [
    "Basic testing of how torch-mlir handle multiple modules"
   ]
  },
  {
   "cell_type": "code",
   "execution_count": 11,
   "metadata": {},
   "outputs": [
    {
     "name": "stderr",
     "output_type": "stream",
     "text": [
      "error: unhandled: could not import node:  = prim::Store[name=\"x\"](%x) # /tmp/ipykernel_8855/1947926451.py:13:22\n",
      "\n"
     ]
    },
    {
     "ename": "RuntimeError",
     "evalue": "see diagnostics",
     "output_type": "error",
     "traceback": [
      "\u001b[0;31m---------------------------------------------------------------------------\u001b[0m",
      "\u001b[0;31mRuntimeError\u001b[0m                              Traceback (most recent call last)",
      "\u001b[1;32m/home/yilifb/torch-mlir/examples/test.ipynb Cell 11'\u001b[0m in \u001b[0;36m<cell line: 18>\u001b[0;34m()\u001b[0m\n\u001b[1;32m     <a href='vscode-notebook-cell://wsl%2Bubuntu-20.04/home/yilifb/torch-mlir/examples/test.ipynb#ch0000013vscode-remote?line=14'>15</a>\u001b[0m         z \u001b[39m=\u001b[39m \u001b[39mself\u001b[39m\u001b[39m.\u001b[39mb(y)\n\u001b[1;32m     <a href='vscode-notebook-cell://wsl%2Bubuntu-20.04/home/yilifb/torch-mlir/examples/test.ipynb#ch0000013vscode-remote?line=15'>16</a>\u001b[0m         \u001b[39mreturn\u001b[39;00m z\n\u001b[0;32m---> <a href='vscode-notebook-cell://wsl%2Bubuntu-20.04/home/yilifb/torch-mlir/examples/test.ipynb#ch0000013vscode-remote?line=17'>18</a>\u001b[0m compiled \u001b[39m=\u001b[39m torch_mlir\u001b[39m.\u001b[39;49mcompile(TempModule(), torch\u001b[39m.\u001b[39;49mones(\u001b[39m3\u001b[39;49m), output_type\u001b[39m=\u001b[39;49mtorch_mlir\u001b[39m.\u001b[39;49mOutputType\u001b[39m.\u001b[39;49mLINALG_ON_TENSORS)\n\u001b[1;32m     <a href='vscode-notebook-cell://wsl%2Bubuntu-20.04/home/yilifb/torch-mlir/examples/test.ipynb#ch0000013vscode-remote?line=18'>19</a>\u001b[0m \u001b[39mprint\u001b[39m(compiled)\n",
      "File \u001b[0;32m~/torch-mlir/build/tools/torch-mlir/python_packages/torch_mlir/torch_mlir/__init__.py:144\u001b[0m, in \u001b[0;36mcompile\u001b[0;34m(model, example_args, output_type, use_tracing)\u001b[0m\n\u001b[1;32m    <a href='file:///home/yilifb/torch-mlir/build/tools/torch-mlir/python_packages/torch_mlir/torch_mlir/__init__.py?line=139'>140</a>\u001b[0m class_annotator\u001b[39m.\u001b[39mannotateArgs(\n\u001b[1;32m    <a href='file:///home/yilifb/torch-mlir/build/tools/torch-mlir/python_packages/torch_mlir/torch_mlir/__init__.py?line=140'>141</a>\u001b[0m     scripted\u001b[39m.\u001b[39m_c\u001b[39m.\u001b[39m_type(), [\u001b[39m\"\u001b[39m\u001b[39mforward\u001b[39m\u001b[39m\"\u001b[39m], forward_annotation)\n\u001b[1;32m    <a href='file:///home/yilifb/torch-mlir/build/tools/torch-mlir/python_packages/torch_mlir/torch_mlir/__init__.py?line=142'>143</a>\u001b[0m mb \u001b[39m=\u001b[39m ModuleBuilder()\n\u001b[0;32m--> <a href='file:///home/yilifb/torch-mlir/build/tools/torch-mlir/python_packages/torch_mlir/torch_mlir/__init__.py?line=143'>144</a>\u001b[0m mb\u001b[39m.\u001b[39;49mimport_module(scripted\u001b[39m.\u001b[39;49m_c, class_annotator)\n\u001b[1;32m    <a href='file:///home/yilifb/torch-mlir/build/tools/torch-mlir/python_packages/torch_mlir/torch_mlir/__init__.py?line=145'>146</a>\u001b[0m \u001b[39mif\u001b[39;00m output_type \u001b[39m==\u001b[39m OutputType\u001b[39m.\u001b[39mRAW:\n\u001b[1;32m    <a href='file:///home/yilifb/torch-mlir/build/tools/torch-mlir/python_packages/torch_mlir/torch_mlir/__init__.py?line=146'>147</a>\u001b[0m     \u001b[39mreturn\u001b[39;00m mb\u001b[39m.\u001b[39mmodule\n",
      "\u001b[0;31mRuntimeError\u001b[0m: see diagnostics"
     ]
    }
   ],
   "source": [
    "class TempModule(torch.nn.Module):\n",
    "    def forward(self, a):\n",
    "        b = torch.add(a, a)\n",
    "        c = torch.mul(a, b)\n",
    "        return c\n",
    "\n",
    "class StupidModule(torch.nn.Module):\n",
    "    def __init__(self):\n",
    "        super().__init__()\n",
    "        self.a = TempModule()\n",
    "        self.b = TempModule()\n",
    "    \n",
    "    def forward(self, x):\n",
    "        y = self.a(x)\n",
    "        z = self.b(y)\n",
    "        return z\n",
    "\n",
    "compiled = torch_mlir.compile(TempModule(), torch.ones(3), output_type=torch_mlir.OutputType.LINALG_ON_TENSORS)\n",
    "print(compiled)"
   ]
  },
  {
   "cell_type": "code",
   "execution_count": null,
   "metadata": {},
   "outputs": [],
   "source": []
  },
  {
   "cell_type": "code",
   "execution_count": null,
   "metadata": {},
   "outputs": [],
   "source": []
  }
 ],
 "metadata": {
  "interpreter": {
   "hash": "ba0f467b7d3d2cbe1ea31bf8f4b7563262dbd8c2e64b95b4204939825c46e3af"
  },
  "kernelspec": {
   "display_name": "Python 3.8.10 ('torch-mlir-dev')",
   "language": "python",
   "name": "python3"
  },
  "language_info": {
   "codemirror_mode": {
    "name": "ipython",
    "version": 3
   },
   "file_extension": ".py",
   "mimetype": "text/x-python",
   "name": "python",
   "nbconvert_exporter": "python",
   "pygments_lexer": "ipython3",
   "version": "3.8.10"
  },
  "orig_nbformat": 4
 },
 "nbformat": 4,
 "nbformat_minor": 2
}
